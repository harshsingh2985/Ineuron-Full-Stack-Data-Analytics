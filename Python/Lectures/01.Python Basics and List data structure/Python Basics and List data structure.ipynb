{
 "cells": [
  {
   "attachments": {},
   "cell_type": "markdown",
   "id": "f7983eac",
   "metadata": {},
   "source": [
    "##### **Topics covered in this notebook:**\n",
    "1. Range()\n",
    "2. Inbuilt-functions\n",
    "3. String Functions\n",
    "4. String Formatting\n",
    "5. for loop\n",
    "6. If else condition\n",
    "7. Python Data Structure\n",
    "    - List\n",
    "    - List methods and functions\n",
    "8. List Comprehension"
   ]
  },
  {
   "cell_type": "code",
   "execution_count": 1,
   "id": "b0fd7612",
   "metadata": {},
   "outputs": [
    {
     "name": "stdout",
     "output_type": "stream",
     "text": [
      "Hello world\n"
     ]
    }
   ],
   "source": [
    "print('Hello world')"
   ]
  },
  {
   "cell_type": "code",
   "execution_count": 2,
   "id": "dd148fa9",
   "metadata": {},
   "outputs": [
    {
     "ename": "SyntaxError",
     "evalue": "invalid syntax (4293340409.py, line 1)",
     "output_type": "error",
     "traceback": [
      "\u001b[1;36m  Input \u001b[1;32mIn [2]\u001b[1;36m\u001b[0m\n\u001b[1;33m    print(Hello World)\u001b[0m\n\u001b[1;37m                ^\u001b[0m\n\u001b[1;31mSyntaxError\u001b[0m\u001b[1;31m:\u001b[0m invalid syntax\n"
     ]
    }
   ],
   "source": [
    "print(Hello World)"
   ]
  },
  {
   "cell_type": "code",
   "execution_count": 3,
   "id": "70be5e1f",
   "metadata": {},
   "outputs": [
    {
     "data": {
      "text/plain": [
       "str"
      ]
     },
     "execution_count": 3,
     "metadata": {},
     "output_type": "execute_result"
    }
   ],
   "source": [
    "type('a')"
   ]
  },
  {
   "cell_type": "code",
   "execution_count": 4,
   "id": "713e3c78",
   "metadata": {},
   "outputs": [],
   "source": [
    "a = 5"
   ]
  },
  {
   "cell_type": "code",
   "execution_count": 5,
   "id": "275f173d",
   "metadata": {},
   "outputs": [
    {
     "data": {
      "text/plain": [
       "int"
      ]
     },
     "execution_count": 5,
     "metadata": {},
     "output_type": "execute_result"
    }
   ],
   "source": [
    "type(a)"
   ]
  },
  {
   "cell_type": "code",
   "execution_count": 6,
   "id": "0e108760",
   "metadata": {},
   "outputs": [
    {
     "data": {
      "text/plain": [
       "range(0, 10)"
      ]
     },
     "execution_count": 6,
     "metadata": {},
     "output_type": "execute_result"
    }
   ],
   "source": [
    "range(10)"
   ]
  },
  {
   "cell_type": "code",
   "execution_count": 7,
   "id": "13a60f85",
   "metadata": {},
   "outputs": [
    {
     "data": {
      "text/plain": [
       "bool"
      ]
     },
     "execution_count": 7,
     "metadata": {},
     "output_type": "execute_result"
    }
   ],
   "source": [
    "# comparison\n",
    "type(a==5)"
   ]
  },
  {
   "cell_type": "markdown",
   "id": "42e449fd",
   "metadata": {},
   "source": [
    "#### range (start, end, step size)"
   ]
  },
  {
   "cell_type": "code",
   "execution_count": 8,
   "id": "3cbf64f9",
   "metadata": {},
   "outputs": [
    {
     "data": {
      "text/plain": [
       "[0, 1, 2, 3, 4, 5, 6, 7, 8, 9]"
      ]
     },
     "execution_count": 8,
     "metadata": {},
     "output_type": "execute_result"
    }
   ],
   "source": [
    "# range will give numbers from 1 to 10 in list form\n",
    "list(range(10))"
   ]
  },
  {
   "cell_type": "code",
   "execution_count": 9,
   "id": "2bc8b454",
   "metadata": {},
   "outputs": [
    {
     "data": {
      "text/plain": [
       "[3, 4, 5, 6, 7, 8, 9]"
      ]
     },
     "execution_count": 9,
     "metadata": {},
     "output_type": "execute_result"
    }
   ],
   "source": [
    "# range will give numbers from start 3 to end 10 in list form\n",
    "list(range(3,10))"
   ]
  },
  {
   "cell_type": "code",
   "execution_count": 10,
   "id": "02693d64",
   "metadata": {},
   "outputs": [
    {
     "data": {
      "text/plain": [
       "[3, 5, 7, 9]"
      ]
     },
     "execution_count": 10,
     "metadata": {},
     "output_type": "execute_result"
    }
   ],
   "source": [
    "# range will give numbers from 3 to 10 with step size 2\n",
    "list(range(3,10,2))"
   ]
  },
  {
   "cell_type": "code",
   "execution_count": 11,
   "id": "49c11662",
   "metadata": {},
   "outputs": [
    {
     "data": {
      "text/plain": [
       "[]"
      ]
     },
     "execution_count": 11,
     "metadata": {},
     "output_type": "execute_result"
    }
   ],
   "source": [
    "# empty list\n",
    "list(range(10,3))"
   ]
  },
  {
   "cell_type": "code",
   "execution_count": 12,
   "id": "7cb9b332",
   "metadata": {},
   "outputs": [
    {
     "data": {
      "text/plain": [
       "[]"
      ]
     },
     "execution_count": 12,
     "metadata": {},
     "output_type": "execute_result"
    }
   ],
   "source": [
    "# empty list\n",
    "list(range(3,10,-1))"
   ]
  },
  {
   "cell_type": "code",
   "execution_count": 13,
   "id": "3b8710e7",
   "metadata": {},
   "outputs": [
    {
     "ename": "TypeError",
     "evalue": "'float' object cannot be interpreted as an integer",
     "output_type": "error",
     "traceback": [
      "\u001b[1;31m---------------------------------------------------------------------------\u001b[0m",
      "\u001b[1;31mTypeError\u001b[0m                                 Traceback (most recent call last)",
      "Input \u001b[1;32mIn [13]\u001b[0m, in \u001b[0;36m<cell line: 1>\u001b[1;34m()\u001b[0m\n\u001b[1;32m----> 1\u001b[0m \u001b[38;5;28mlist\u001b[39m(\u001b[38;5;28;43mrange\u001b[39;49m\u001b[43m(\u001b[49m\u001b[38;5;241;43m3.5\u001b[39;49m\u001b[43m,\u001b[49m\u001b[38;5;241;43m10.5\u001b[39;49m\u001b[43m)\u001b[49m)\n",
      "\u001b[1;31mTypeError\u001b[0m: 'float' object cannot be interpreted as an integer"
     ]
    }
   ],
   "source": [
    "list(range(3.5,10.5))"
   ]
  },
  {
   "cell_type": "code",
   "execution_count": 14,
   "id": "60682a95",
   "metadata": {},
   "outputs": [
    {
     "data": {
      "text/plain": [
       "[-10, -9, -8, -7, -6, -5, -4]"
      ]
     },
     "execution_count": 14,
     "metadata": {},
     "output_type": "execute_result"
    }
   ],
   "source": [
    "# numbers in reverse order\n",
    "list(range(-10,-3))"
   ]
  },
  {
   "cell_type": "code",
   "execution_count": 15,
   "id": "6c61dfd4",
   "metadata": {},
   "outputs": [
    {
     "data": {
      "text/plain": [
       "float"
      ]
     },
     "execution_count": 15,
     "metadata": {},
     "output_type": "execute_result"
    }
   ],
   "source": [
    "type(3.56784)"
   ]
  },
  {
   "cell_type": "code",
   "execution_count": 16,
   "id": "d3a7761d",
   "metadata": {},
   "outputs": [
    {
     "data": {
      "text/plain": [
       "[10, 9, 8, 7, 6, 5, 4]"
      ]
     },
     "execution_count": 16,
     "metadata": {},
     "output_type": "execute_result"
    }
   ],
   "source": [
    "# numbers in reverse order with step size -1, step size can be -ve\n",
    "list(range(10,3,-1))"
   ]
  },
  {
   "cell_type": "code",
   "execution_count": 17,
   "id": "6b836230",
   "metadata": {},
   "outputs": [
    {
     "data": {
      "text/plain": [
       "[10, 8, 6, 4]"
      ]
     },
     "execution_count": 17,
     "metadata": {},
     "output_type": "execute_result"
    }
   ],
   "source": [
    "list(range(10,3,-2))"
   ]
  },
  {
   "cell_type": "code",
   "execution_count": 18,
   "id": "28de9675",
   "metadata": {},
   "outputs": [
    {
     "data": {
      "text/plain": [
       "'anandrajesh'"
      ]
     },
     "execution_count": 18,
     "metadata": {},
     "output_type": "execute_result"
    }
   ],
   "source": [
    "# concatenate two strings\n",
    "\"anand\" + \"rajesh\""
   ]
  },
  {
   "cell_type": "code",
   "execution_count": 19,
   "id": "78bffe0b",
   "metadata": {},
   "outputs": [
    {
     "name": "stdout",
     "output_type": "stream",
     "text": [
      "Enter a number : 34\n"
     ]
    }
   ],
   "source": [
    "#enter a number and store it into 'a'\n",
    "a = input(\"Enter a number : \")"
   ]
  },
  {
   "cell_type": "code",
   "execution_count": 20,
   "id": "bf672760",
   "metadata": {},
   "outputs": [
    {
     "data": {
      "text/plain": [
       "str"
      ]
     },
     "execution_count": 20,
     "metadata": {},
     "output_type": "execute_result"
    }
   ],
   "source": [
    "# why string? because user when enter the number in previous cell, bydefault it is in string form\n",
    "type('a')"
   ]
  },
  {
   "cell_type": "code",
   "execution_count": 21,
   "id": "33389811",
   "metadata": {},
   "outputs": [
    {
     "name": "stdout",
     "output_type": "stream",
     "text": [
      "enter 1st number : 23\n",
      "enter 2nd number : 57\n",
      "2357\n"
     ]
    }
   ],
   "source": [
    "# bydefault the numbers entered will be string format. That's why it is concatenated\n",
    "num1 = input(\"enter 1st number : \")\n",
    "num2 = input(\"enter 2nd number : \")\n",
    "\n",
    "sum = num1 + num2\n",
    "print(sum)"
   ]
  },
  {
   "cell_type": "code",
   "execution_count": 22,
   "id": "30d19f5a",
   "metadata": {},
   "outputs": [
    {
     "name": "stdout",
     "output_type": "stream",
     "text": [
      "enter 1st number : 23\n",
      "enter 2nd number : 57\n",
      "80\n"
     ]
    }
   ],
   "source": [
    "# to get the sum, just typecast both the numbers to 'int'\n",
    "num1 = int(input(\"enter 1st number : \"))\n",
    "num2 = int(input(\"enter 2nd number : \"))\n",
    "\n",
    "sum = num1 + num2\n",
    "print(sum)"
   ]
  },
  {
   "cell_type": "code",
   "execution_count": 23,
   "id": "767c7a70",
   "metadata": {},
   "outputs": [
    {
     "name": "stdout",
     "output_type": "stream",
     "text": [
      "enter the 1st number : 540\n",
      "enter the 2nd number : 65\n",
      "605.0\n",
      "475.0\n",
      "35100.0\n",
      "8.307692307692308\n",
      "20.0\n",
      "8.0\n",
      "4.0326858232019736e+177\n"
     ]
    }
   ],
   "source": [
    "# basic calculator\n",
    "num1 = float(input(\"enter the 1st number : \"))\n",
    "num2 = float(input(\"enter the 2nd number : \"))\n",
    "\n",
    "sum = num1 + num2\n",
    "diff = num1 - num2\n",
    "mult = num1 * num2\n",
    "div = num1 / num2\n",
    "mod = num1 % num2\n",
    "flr = num1 // num2\n",
    "pwr = num1  ** num2\n",
    "\n",
    "print(sum)\n",
    "print(diff)\n",
    "print(mult)\n",
    "print(div)\n",
    "print(mod)\n",
    "print(flr)\n",
    "print(pwr)"
   ]
  },
  {
   "cell_type": "code",
   "execution_count": 24,
   "id": "f7da5acc",
   "metadata": {},
   "outputs": [
    {
     "data": {
      "text/plain": [
       "4"
      ]
     },
     "execution_count": 24,
     "metadata": {},
     "output_type": "execute_result"
    }
   ],
   "source": [
    "# find square of any number\n",
    "a = 2\n",
    "a ** 2"
   ]
  },
  {
   "cell_type": "code",
   "execution_count": 25,
   "id": "78d29ab4",
   "metadata": {},
   "outputs": [
    {
     "data": {
      "text/plain": [
       "243"
      ]
     },
     "execution_count": 25,
     "metadata": {},
     "output_type": "execute_result"
    }
   ],
   "source": [
    "pow(3,5)"
   ]
  },
  {
   "cell_type": "code",
   "execution_count": 26,
   "id": "73901c3a",
   "metadata": {},
   "outputs": [
    {
     "data": {
      "text/plain": [
       "'python python python '"
      ]
     },
     "execution_count": 26,
     "metadata": {},
     "output_type": "execute_result"
    }
   ],
   "source": [
    "# print 'python' 3 times\n",
    "\"python \" * 3"
   ]
  },
  {
   "cell_type": "markdown",
   "id": "2723392d",
   "metadata": {},
   "source": [
    "##### Indexing the list"
   ]
  },
  {
   "cell_type": "code",
   "execution_count": 27,
   "id": "9a827c05",
   "metadata": {},
   "outputs": [],
   "source": [
    "x = list('INDEPENDENCE')"
   ]
  },
  {
   "cell_type": "code",
   "execution_count": 28,
   "id": "3e59835a",
   "metadata": {},
   "outputs": [
    {
     "data": {
      "text/plain": [
       "['I', 'N', 'D', 'E', 'P', 'E', 'N', 'D', 'E', 'N', 'C', 'E']"
      ]
     },
     "execution_count": 28,
     "metadata": {},
     "output_type": "execute_result"
    }
   ],
   "source": [
    "x"
   ]
  },
  {
   "cell_type": "code",
   "execution_count": 29,
   "id": "1329443c",
   "metadata": {},
   "outputs": [
    {
     "data": {
      "text/plain": [
       "12"
      ]
     },
     "execution_count": 29,
     "metadata": {},
     "output_type": "execute_result"
    }
   ],
   "source": [
    "# length of the string\n",
    "len(x)"
   ]
  },
  {
   "cell_type": "code",
   "execution_count": 30,
   "id": "4769f42e",
   "metadata": {},
   "outputs": [
    {
     "data": {
      "text/plain": [
       "'E'"
      ]
     },
     "execution_count": 30,
     "metadata": {},
     "output_type": "execute_result"
    }
   ],
   "source": [
    "# accessing the specific character\n",
    "x[5]"
   ]
  },
  {
   "cell_type": "code",
   "execution_count": 31,
   "id": "bd8f03a9",
   "metadata": {},
   "outputs": [
    {
     "data": {
      "text/plain": [
       "'C'"
      ]
     },
     "execution_count": 31,
     "metadata": {},
     "output_type": "execute_result"
    }
   ],
   "source": [
    "# accessing the specific character in reverse order\n",
    "x[-2]"
   ]
  },
  {
   "cell_type": "code",
   "execution_count": 32,
   "id": "7ede0b8e",
   "metadata": {},
   "outputs": [
    {
     "data": {
      "text/plain": [
       "['I', 'D', 'P', 'N', 'E', 'C']"
      ]
     },
     "execution_count": 32,
     "metadata": {},
     "output_type": "execute_result"
    }
   ],
   "source": [
    "# alternate characters\n",
    "x[::2]"
   ]
  },
  {
   "cell_type": "code",
   "execution_count": 33,
   "id": "bf1019d0",
   "metadata": {},
   "outputs": [
    {
     "data": {
      "text/plain": [
       "['I', 'D', 'P', 'N', 'E', 'C']"
      ]
     },
     "execution_count": 33,
     "metadata": {},
     "output_type": "execute_result"
    }
   ],
   "source": [
    "x[:12:2]"
   ]
  },
  {
   "cell_type": "code",
   "execution_count": 34,
   "id": "c6c4b30b",
   "metadata": {},
   "outputs": [
    {
     "data": {
      "text/plain": [
       "['I', 'D', 'P', 'N', 'E', 'C']"
      ]
     },
     "execution_count": 34,
     "metadata": {},
     "output_type": "execute_result"
    }
   ],
   "source": [
    "x[0:11:2]"
   ]
  },
  {
   "cell_type": "code",
   "execution_count": 35,
   "id": "2ca3a09f",
   "metadata": {},
   "outputs": [
    {
     "data": {
      "text/plain": [
       "['D', 'P', 'N', 'E', 'C']"
      ]
     },
     "execution_count": 35,
     "metadata": {},
     "output_type": "execute_result"
    }
   ],
   "source": [
    "x[-10:-1:2]"
   ]
  },
  {
   "cell_type": "code",
   "execution_count": 36,
   "id": "b68493df",
   "metadata": {},
   "outputs": [
    {
     "data": {
      "text/plain": [
       "['E', 'C', 'N', 'E', 'D', 'N', 'E', 'P', 'E', 'D', 'N', 'I']"
      ]
     },
     "execution_count": 36,
     "metadata": {},
     "output_type": "execute_result"
    }
   ],
   "source": [
    "# reverse the characters in list but it will not update the list\n",
    "x[::-1]"
   ]
  },
  {
   "cell_type": "code",
   "execution_count": 37,
   "id": "24174a3d",
   "metadata": {},
   "outputs": [
    {
     "data": {
      "text/plain": [
       "['I', 'N', 'D', 'E', 'P', 'E', 'N', 'D', 'E', 'N', 'C', 'E']"
      ]
     },
     "execution_count": 37,
     "metadata": {},
     "output_type": "execute_result"
    }
   ],
   "source": [
    "x"
   ]
  },
  {
   "cell_type": "code",
   "execution_count": 38,
   "id": "6c5046b7",
   "metadata": {},
   "outputs": [
    {
     "data": {
      "text/plain": [
       "'dlrow olleh'"
      ]
     },
     "execution_count": 38,
     "metadata": {},
     "output_type": "execute_result"
    }
   ],
   "source": [
    "# reverse the string\n",
    "b = 'hello world'\n",
    "b[::-1]"
   ]
  },
  {
   "cell_type": "markdown",
   "id": "fba3ccb4",
   "metadata": {},
   "source": [
    "list : 'mutable' which means we can change"
   ]
  },
  {
   "cell_type": "code",
   "execution_count": 39,
   "id": "f35c71d3",
   "metadata": {},
   "outputs": [],
   "source": [
    "a = 'Swastik'"
   ]
  },
  {
   "cell_type": "code",
   "execution_count": 40,
   "id": "33ff0a90",
   "metadata": {},
   "outputs": [
    {
     "data": {
      "text/plain": [
       "'s'"
      ]
     },
     "execution_count": 40,
     "metadata": {},
     "output_type": "execute_result"
    }
   ],
   "source": [
    "a[3]"
   ]
  },
  {
   "cell_type": "code",
   "execution_count": 41,
   "id": "43d540f3",
   "metadata": {},
   "outputs": [
    {
     "data": {
      "text/plain": [
       "7"
      ]
     },
     "execution_count": 41,
     "metadata": {},
     "output_type": "execute_result"
    }
   ],
   "source": [
    "len(a)"
   ]
  },
  {
   "cell_type": "code",
   "execution_count": 42,
   "id": "bfcaa6e5",
   "metadata": {},
   "outputs": [
    {
     "ename": "TypeError",
     "evalue": "'str' object does not support item assignment",
     "output_type": "error",
     "traceback": [
      "\u001b[1;31m---------------------------------------------------------------------------\u001b[0m",
      "\u001b[1;31mTypeError\u001b[0m                                 Traceback (most recent call last)",
      "Input \u001b[1;32mIn [42]\u001b[0m, in \u001b[0;36m<cell line: 3>\u001b[1;34m()\u001b[0m\n\u001b[0;32m      1\u001b[0m \u001b[38;5;66;03m# string is immutable, cannot be changed\u001b[39;00m\n\u001b[0;32m      2\u001b[0m \u001b[38;5;66;03m# cannot change a character\u001b[39;00m\n\u001b[1;32m----> 3\u001b[0m a[\u001b[38;5;241m3\u001b[39m] \u001b[38;5;241m=\u001b[39m \u001b[38;5;124m'\u001b[39m\u001b[38;5;124ma\u001b[39m\u001b[38;5;124m'\u001b[39m\n",
      "\u001b[1;31mTypeError\u001b[0m: 'str' object does not support item assignment"
     ]
    }
   ],
   "source": [
    "# string is immutable, cannot be changed\n",
    "# cannot change a character\n",
    "a[3] = 'a'"
   ]
  },
  {
   "cell_type": "code",
   "execution_count": 43,
   "id": "baadcff1",
   "metadata": {},
   "outputs": [
    {
     "data": {
      "text/plain": [
       "'Swastik'"
      ]
     },
     "execution_count": 43,
     "metadata": {},
     "output_type": "execute_result"
    }
   ],
   "source": [
    "a"
   ]
  },
  {
   "cell_type": "code",
   "execution_count": 44,
   "id": "253f56d1",
   "metadata": {},
   "outputs": [],
   "source": [
    "# to change the specific character into a new character, change the string to list\n",
    "str_list = list(a)"
   ]
  },
  {
   "cell_type": "code",
   "execution_count": 45,
   "id": "e4a0140c",
   "metadata": {},
   "outputs": [
    {
     "data": {
      "text/plain": [
       "['S', 'w', 'a', 's', 't', 'i', 'k']"
      ]
     },
     "execution_count": 45,
     "metadata": {},
     "output_type": "execute_result"
    }
   ],
   "source": [
    "str_list"
   ]
  },
  {
   "cell_type": "code",
   "execution_count": 46,
   "id": "3975b0b2",
   "metadata": {},
   "outputs": [],
   "source": [
    "str_list[3] = 'm'"
   ]
  },
  {
   "cell_type": "code",
   "execution_count": 47,
   "id": "3ef9fcc4",
   "metadata": {},
   "outputs": [
    {
     "data": {
      "text/plain": [
       "['S', 'w', 'a', 'm', 't', 'i', 'k']"
      ]
     },
     "execution_count": 47,
     "metadata": {},
     "output_type": "execute_result"
    }
   ],
   "source": [
    "# character changed\n",
    "str_list"
   ]
  },
  {
   "cell_type": "code",
   "execution_count": 48,
   "id": "f3eb544c",
   "metadata": {},
   "outputs": [],
   "source": [
    "# create an empty list\n",
    "empty_list = []"
   ]
  },
  {
   "cell_type": "code",
   "execution_count": 49,
   "id": "6a26f50b",
   "metadata": {},
   "outputs": [
    {
     "data": {
      "text/plain": [
       "[]"
      ]
     },
     "execution_count": 49,
     "metadata": {},
     "output_type": "execute_result"
    }
   ],
   "source": [
    "empty_list"
   ]
  },
  {
   "cell_type": "code",
   "execution_count": 50,
   "id": "9d37d240",
   "metadata": {},
   "outputs": [],
   "source": [
    "# list containing some values\n",
    "list_object = ['Seshadri',23.56,'m',45,'Aakash']"
   ]
  },
  {
   "cell_type": "code",
   "execution_count": 51,
   "id": "6ad38da0",
   "metadata": {},
   "outputs": [
    {
     "data": {
      "text/plain": [
       "['Seshadri', 23.56, 'm', 45, 'Aakash']"
      ]
     },
     "execution_count": 51,
     "metadata": {},
     "output_type": "execute_result"
    }
   ],
   "source": [
    "list_object"
   ]
  },
  {
   "cell_type": "code",
   "execution_count": 52,
   "id": "9b3adee2",
   "metadata": {},
   "outputs": [],
   "source": [
    "list_object = ['Seshadri',23.56,'m',45,'Aakash',['Gautam','Anil','Arun']]"
   ]
  },
  {
   "cell_type": "code",
   "execution_count": 53,
   "id": "c362c2c5",
   "metadata": {},
   "outputs": [
    {
     "data": {
      "text/plain": [
       "['Gautam', 'Anil', 'Arun']"
      ]
     },
     "execution_count": 53,
     "metadata": {},
     "output_type": "execute_result"
    }
   ],
   "source": [
    "list_object[-1]"
   ]
  },
  {
   "cell_type": "code",
   "execution_count": 54,
   "id": "fcc6299b",
   "metadata": {},
   "outputs": [
    {
     "data": {
      "text/plain": [
       "'Anil'"
      ]
     },
     "execution_count": 54,
     "metadata": {},
     "output_type": "execute_result"
    }
   ],
   "source": [
    "# accessing list inside a list\n",
    "list_object[-1][1]"
   ]
  },
  {
   "cell_type": "code",
   "execution_count": 55,
   "id": "5ee33001",
   "metadata": {},
   "outputs": [
    {
     "data": {
      "text/plain": [
       "'Arun'"
      ]
     },
     "execution_count": 55,
     "metadata": {},
     "output_type": "execute_result"
    }
   ],
   "source": [
    "list_object[-1][-1]"
   ]
  },
  {
   "cell_type": "markdown",
   "id": "548bb44e",
   "metadata": {},
   "source": [
    "##### List methods"
   ]
  },
  {
   "cell_type": "code",
   "execution_count": 56,
   "id": "7585a60d",
   "metadata": {},
   "outputs": [],
   "source": [
    "list_object = ['Seshadri',23.56,'m',45,'Aakash',['Gautam','Anil','Arun']]"
   ]
  },
  {
   "cell_type": "code",
   "execution_count": 57,
   "id": "3f6501d2",
   "metadata": {},
   "outputs": [],
   "source": [
    "# append a value to the list\n",
    "# it will add at the end of list\n",
    "list_object.append('Ramya')"
   ]
  },
  {
   "cell_type": "code",
   "execution_count": 58,
   "id": "dee13ce7",
   "metadata": {},
   "outputs": [
    {
     "data": {
      "text/plain": [
       "['Seshadri', 23.56, 'm', 45, 'Aakash', ['Gautam', 'Anil', 'Arun'], 'Ramya']"
      ]
     },
     "execution_count": 58,
     "metadata": {},
     "output_type": "execute_result"
    }
   ],
   "source": [
    "list_object"
   ]
  },
  {
   "cell_type": "code",
   "execution_count": 59,
   "id": "f0786aff",
   "metadata": {},
   "outputs": [],
   "source": [
    "# inserting a value at the specified index\n",
    "list_object.insert(3,'Meenu')"
   ]
  },
  {
   "cell_type": "code",
   "execution_count": 60,
   "id": "c51925e9",
   "metadata": {},
   "outputs": [
    {
     "data": {
      "text/plain": [
       "['Seshadri',\n",
       " 23.56,\n",
       " 'm',\n",
       " 'Meenu',\n",
       " 45,\n",
       " 'Aakash',\n",
       " ['Gautam', 'Anil', 'Arun'],\n",
       " 'Ramya']"
      ]
     },
     "execution_count": 60,
     "metadata": {},
     "output_type": "execute_result"
    }
   ],
   "source": [
    "list_object"
   ]
  },
  {
   "cell_type": "markdown",
   "id": "b371f2ef",
   "metadata": {},
   "source": [
    "#### Given a list, separate  the items based on two different even and odd list\n",
    "##### - For loop, If-else condition"
   ]
  },
  {
   "cell_type": "code",
   "execution_count": 61,
   "id": "9b2ab640",
   "metadata": {},
   "outputs": [],
   "source": [
    "num_list = [2,3,4,5,6,7,8,9,10,11,12,13,14,15,16]"
   ]
  },
  {
   "cell_type": "code",
   "execution_count": 62,
   "id": "5bb15d0f",
   "metadata": {},
   "outputs": [
    {
     "data": {
      "text/plain": [
       "[2, 3, 4, 5, 6, 7, 8, 9, 10, 11, 12, 13, 14, 15, 16]"
      ]
     },
     "execution_count": 62,
     "metadata": {},
     "output_type": "execute_result"
    }
   ],
   "source": [
    "num_list"
   ]
  },
  {
   "cell_type": "code",
   "execution_count": 63,
   "id": "6c118d2f",
   "metadata": {},
   "outputs": [
    {
     "data": {
      "text/plain": [
       "15"
      ]
     },
     "execution_count": 63,
     "metadata": {},
     "output_type": "execute_result"
    }
   ],
   "source": [
    "len(num_list)"
   ]
  },
  {
   "cell_type": "code",
   "execution_count": 64,
   "id": "15f52c6a",
   "metadata": {},
   "outputs": [],
   "source": [
    "a = []\n",
    "b = []"
   ]
  },
  {
   "cell_type": "code",
   "execution_count": 65,
   "id": "2c3f65ab",
   "metadata": {},
   "outputs": [],
   "source": [
    "'''\n",
    "if we write only i instead of num_list[i] \n",
    "then the position number of i will append to the respective list */\n",
    "'''\n",
    "for i in range(len(num_list)):\n",
    "    if i % 2 == 0:\n",
    "        a.append(i)\n",
    "    else:\n",
    "        b.append(i)"
   ]
  },
  {
   "cell_type": "code",
   "execution_count": 66,
   "id": "e0c96848",
   "metadata": {},
   "outputs": [
    {
     "data": {
      "text/plain": [
       "([0, 2, 4, 6, 8, 10, 12, 14], [1, 3, 5, 7, 9, 11, 13])"
      ]
     },
     "execution_count": 66,
     "metadata": {},
     "output_type": "execute_result"
    }
   ],
   "source": [
    "a,b"
   ]
  },
  {
   "cell_type": "code",
   "execution_count": 67,
   "id": "7278a658",
   "metadata": {},
   "outputs": [],
   "source": [
    "c = []\n",
    "d = []"
   ]
  },
  {
   "cell_type": "code",
   "execution_count": 68,
   "id": "99dd895c",
   "metadata": {},
   "outputs": [],
   "source": [
    "''' \n",
    "but if we write num_list[i], then the value at the particular \n",
    "the specified index will append to the respective list\n",
    "'''\n",
    "for i in range(len(num_list)):\n",
    "    if num_list[i] % 2 == 0:\n",
    "        c.append(num_list[i])\n",
    "    else:\n",
    "        d.append(num_list[i])"
   ]
  },
  {
   "cell_type": "code",
   "execution_count": 69,
   "id": "9ab552be",
   "metadata": {},
   "outputs": [
    {
     "data": {
      "text/plain": [
       "([2, 4, 6, 8, 10, 12, 14, 16], [3, 5, 7, 9, 11, 13, 15])"
      ]
     },
     "execution_count": 69,
     "metadata": {},
     "output_type": "execute_result"
    }
   ],
   "source": [
    "c,d"
   ]
  },
  {
   "cell_type": "code",
   "execution_count": 70,
   "id": "4af6d6b2",
   "metadata": {},
   "outputs": [],
   "source": [
    "e = []\n",
    "f = []"
   ]
  },
  {
   "cell_type": "code",
   "execution_count": 71,
   "id": "3a11d515",
   "metadata": {},
   "outputs": [],
   "source": [
    "for i in num_list:\n",
    "    if i % 2 == 0:\n",
    "        e.append(i)\n",
    "    else:\n",
    "        f.append(i)"
   ]
  },
  {
   "cell_type": "code",
   "execution_count": 72,
   "id": "3ab26f9c",
   "metadata": {},
   "outputs": [
    {
     "data": {
      "text/plain": [
       "([2, 4, 6, 8, 10, 12, 14, 16], [3, 5, 7, 9, 11, 13, 15])"
      ]
     },
     "execution_count": 72,
     "metadata": {},
     "output_type": "execute_result"
    }
   ],
   "source": [
    "e,f"
   ]
  },
  {
   "cell_type": "code",
   "execution_count": 73,
   "id": "5069ec26",
   "metadata": {},
   "outputs": [
    {
     "data": {
      "text/plain": [
       "False"
      ]
     },
     "execution_count": 73,
     "metadata": {},
     "output_type": "execute_result"
    }
   ],
   "source": [
    "\"arun\" in list_object"
   ]
  },
  {
   "cell_type": "markdown",
   "id": "b7824e3f",
   "metadata": {},
   "source": [
    "##### String Functions"
   ]
  },
  {
   "cell_type": "code",
   "execution_count": 74,
   "id": "02855f31",
   "metadata": {},
   "outputs": [],
   "source": [
    "str_object = 'bkjcbdjbakjbkhbkjwbiqwbf;jbf'"
   ]
  },
  {
   "cell_type": "code",
   "execution_count": 75,
   "id": "22088392",
   "metadata": {},
   "outputs": [
    {
     "data": {
      "text/plain": [
       "17"
      ]
     },
     "execution_count": 75,
     "metadata": {},
     "output_type": "execute_result"
    }
   ],
   "source": [
    "# find will return the index position of the specific character\n",
    "str_object.find('w')"
   ]
  },
  {
   "cell_type": "code",
   "execution_count": 76,
   "id": "05fc250f",
   "metadata": {},
   "outputs": [
    {
     "data": {
      "text/plain": [
       "-1"
      ]
     },
     "execution_count": 76,
     "metadata": {},
     "output_type": "execute_result"
    }
   ],
   "source": [
    "# if the character didn't find, it returns -1\n",
    "str_object.find('s')"
   ]
  },
  {
   "cell_type": "code",
   "execution_count": 77,
   "id": "9ba35eeb",
   "metadata": {},
   "outputs": [
    {
     "data": {
      "text/plain": [
       "['bk', 'cbd', 'bak', 'bkhbk', 'wbiqwbf;', 'bf']"
      ]
     },
     "execution_count": 77,
     "metadata": {},
     "output_type": "execute_result"
    }
   ],
   "source": [
    "# split : It will split the entire string where 'j' will show up\n",
    "str_object.split('j')"
   ]
  },
  {
   "cell_type": "code",
   "execution_count": 78,
   "id": "6d4e6eea",
   "metadata": {},
   "outputs": [
    {
     "data": {
      "text/plain": [
       "('bk', 'j', 'cbdjbakjbkhbkjwbiqwbf;jbf')"
      ]
     },
     "execution_count": 78,
     "metadata": {},
     "output_type": "execute_result"
    }
   ],
   "source": [
    "# partition the entire string into 3 parts. It also includes the parition letter/string also\n",
    "str_object.partition('j')"
   ]
  },
  {
   "cell_type": "code",
   "execution_count": 79,
   "id": "f11ac913",
   "metadata": {},
   "outputs": [],
   "source": [
    "text = \"india is my country\""
   ]
  },
  {
   "cell_type": "code",
   "execution_count": 80,
   "id": "a979e700",
   "metadata": {},
   "outputs": [
    {
     "data": {
      "text/plain": [
       "'***************india is my country****************'"
      ]
     },
     "execution_count": 80,
     "metadata": {},
     "output_type": "execute_result"
    }
   ],
   "source": [
    "# Return a centered string of length width.\n",
    "text.center(50,\"*\")"
   ]
  },
  {
   "cell_type": "markdown",
   "id": "424ea601",
   "metadata": {},
   "source": [
    "##### List Methods"
   ]
  },
  {
   "cell_type": "code",
   "execution_count": 81,
   "id": "740a7e20",
   "metadata": {},
   "outputs": [],
   "source": [
    "s = [1,3,4,5,5]"
   ]
  },
  {
   "cell_type": "code",
   "execution_count": 82,
   "id": "ed4db7f2",
   "metadata": {},
   "outputs": [],
   "source": [
    "# append list inside list\n",
    "s.append([3,4,5,6,7])"
   ]
  },
  {
   "cell_type": "code",
   "execution_count": 83,
   "id": "ea83efef",
   "metadata": {},
   "outputs": [
    {
     "data": {
      "text/plain": [
       "[1, 3, 4, 5, 5, [3, 4, 5, 6, 7]]"
      ]
     },
     "execution_count": 83,
     "metadata": {},
     "output_type": "execute_result"
    }
   ],
   "source": [
    "s"
   ]
  },
  {
   "cell_type": "code",
   "execution_count": 84,
   "id": "eec71e9f",
   "metadata": {},
   "outputs": [],
   "source": [
    "# append the items to the list combinedly in list form \n",
    "s.append(['Kumar',53,'Hello'])"
   ]
  },
  {
   "cell_type": "code",
   "execution_count": 85,
   "id": "3d425ec9",
   "metadata": {},
   "outputs": [
    {
     "data": {
      "text/plain": [
       "[1, 3, 4, 5, 5, [3, 4, 5, 6, 7], ['Kumar', 53, 'Hello']]"
      ]
     },
     "execution_count": 85,
     "metadata": {},
     "output_type": "execute_result"
    }
   ],
   "source": [
    "s"
   ]
  },
  {
   "cell_type": "code",
   "execution_count": 86,
   "id": "74ceac2d",
   "metadata": {},
   "outputs": [],
   "source": [
    "# separate the items and insert to the list rather than in list form\n",
    "s.extend([6,7,8,9,\"ram\"])"
   ]
  },
  {
   "cell_type": "code",
   "execution_count": 87,
   "id": "bb47137c",
   "metadata": {},
   "outputs": [
    {
     "data": {
      "text/plain": [
       "[1, 3, 4, 5, 5, [3, 4, 5, 6, 7], ['Kumar', 53, 'Hello'], 6, 7, 8, 9, 'ram']"
      ]
     },
     "execution_count": 87,
     "metadata": {},
     "output_type": "execute_result"
    }
   ],
   "source": [
    "s"
   ]
  },
  {
   "cell_type": "markdown",
   "id": "22b9a757",
   "metadata": {},
   "source": [
    "##### String formatting"
   ]
  },
  {
   "cell_type": "code",
   "execution_count": 89,
   "id": "d715a98b",
   "metadata": {},
   "outputs": [
    {
     "name": "stdout",
     "output_type": "stream",
     "text": [
      "enter your name : rahul\n"
     ]
    }
   ],
   "source": [
    "var = input('enter your name : ')"
   ]
  },
  {
   "cell_type": "code",
   "execution_count": 90,
   "id": "ac0d3188",
   "metadata": {},
   "outputs": [
    {
     "data": {
      "text/plain": [
       "'my name is rahul'"
      ]
     },
     "execution_count": 90,
     "metadata": {},
     "output_type": "execute_result"
    }
   ],
   "source": [
    "\"my name is {}\". format(var)"
   ]
  },
  {
   "cell_type": "code",
   "execution_count": 91,
   "id": "6c65dad9",
   "metadata": {},
   "outputs": [
    {
     "ename": "TypeError",
     "evalue": "'int' object is not iterable",
     "output_type": "error",
     "traceback": [
      "\u001b[1;31m---------------------------------------------------------------------------\u001b[0m",
      "\u001b[1;31mTypeError\u001b[0m                                 Traceback (most recent call last)",
      "Input \u001b[1;32mIn [91]\u001b[0m, in \u001b[0;36m<cell line: 1>\u001b[1;34m()\u001b[0m\n\u001b[1;32m----> 1\u001b[0m \u001b[38;5;28;43mlist\u001b[39;49m\u001b[43m(\u001b[49m\u001b[38;5;241;43m34\u001b[39;49m\u001b[43m)\u001b[49m\n",
      "\u001b[1;31mTypeError\u001b[0m: 'int' object is not iterable"
     ]
    }
   ],
   "source": [
    "list(34)"
   ]
  },
  {
   "cell_type": "code",
   "execution_count": 92,
   "id": "5a480786",
   "metadata": {},
   "outputs": [],
   "source": [
    "q = [1,2,3,4,5,6,7,8,9]\n",
    "w = ['anuj','manisha','ramya','anil']\n",
    "e = [23.45,45,67,89,30]"
   ]
  },
  {
   "cell_type": "code",
   "execution_count": 93,
   "id": "da628a9d",
   "metadata": {},
   "outputs": [],
   "source": [
    "r = [q,w,e]"
   ]
  },
  {
   "cell_type": "code",
   "execution_count": 94,
   "id": "7616ef09",
   "metadata": {},
   "outputs": [
    {
     "data": {
      "text/plain": [
       "[[1, 2, 3, 4, 5, 6, 7, 8, 9],\n",
       " ['anuj', 'manisha', 'ramya', 'anil'],\n",
       " [23.45, 45, 67, 89, 30]]"
      ]
     },
     "execution_count": 94,
     "metadata": {},
     "output_type": "execute_result"
    }
   ],
   "source": [
    "r"
   ]
  },
  {
   "cell_type": "code",
   "execution_count": 95,
   "id": "952cc012",
   "metadata": {},
   "outputs": [
    {
     "data": {
      "text/plain": [
       "'ramya'"
      ]
     },
     "execution_count": 95,
     "metadata": {},
     "output_type": "execute_result"
    }
   ],
   "source": [
    "r[1][-2]"
   ]
  },
  {
   "cell_type": "code",
   "execution_count": 96,
   "id": "9a63628c",
   "metadata": {},
   "outputs": [
    {
     "data": {
      "text/plain": [
       "45"
      ]
     },
     "execution_count": 96,
     "metadata": {},
     "output_type": "execute_result"
    }
   ],
   "source": [
    "r[2][1]"
   ]
  },
  {
   "cell_type": "markdown",
   "id": "01825292",
   "metadata": {},
   "source": [
    "##### List_comprehension"
   ]
  },
  {
   "cell_type": "code",
   "execution_count": 97,
   "id": "fd27d8f2",
   "metadata": {},
   "outputs": [],
   "source": [
    "list_num = [24,45,67,32,90]"
   ]
  },
  {
   "cell_type": "code",
   "execution_count": 98,
   "id": "345eb142",
   "metadata": {},
   "outputs": [
    {
     "data": {
      "text/plain": [
       "[48, 90, 134, 64, 180]"
      ]
     },
     "execution_count": 98,
     "metadata": {},
     "output_type": "execute_result"
    }
   ],
   "source": [
    "# list_comprehension\n",
    "[i * 2 for i in list_num]"
   ]
  }
 ],
 "metadata": {
  "kernelspec": {
   "display_name": "Python 3.10.6 ('python')",
   "language": "python",
   "name": "python3"
  },
  "language_info": {
   "codemirror_mode": {
    "name": "ipython",
    "version": 3
   },
   "file_extension": ".py",
   "mimetype": "text/x-python",
   "name": "python",
   "nbconvert_exporter": "python",
   "pygments_lexer": "ipython3",
   "version": "3.10.6"
  },
  "vscode": {
   "interpreter": {
    "hash": "5abff0cc3d11827c46140616cb6dc64391be0a163c01217cc305a72e8bdc532c"
   }
  }
 },
 "nbformat": 4,
 "nbformat_minor": 5
}
