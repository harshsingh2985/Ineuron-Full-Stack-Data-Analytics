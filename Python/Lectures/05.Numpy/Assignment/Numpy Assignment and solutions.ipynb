{
 "cells": [
  {
   "cell_type": "markdown",
   "metadata": {},
   "source": [
    "## Write a NumPy program to test whether none of the elements of a given array is zero."
   ]
  },
  {
   "cell_type": "code",
   "execution_count": 1,
   "metadata": {},
   "outputs": [
    {
     "name": "stdout",
     "output_type": "stream",
     "text": [
      "Original array: [1 2 3 4]\n",
      "Test if none of the elements of the said array is zero\n",
      ": True\n",
      "Original array: [0 1 2 3]\n",
      "Test if none of the elements of the said array is zero:\n",
      " False\n"
     ]
    }
   ],
   "source": [
    "import numpy as np\n",
    "x = np.array([1, 2, 3, 4])\n",
    "print(\"Original array:\",x)\n",
    "print(\"Test if none of the elements of the said array is zero\\n:\",np.all(x))\n",
    "y = np.array([0, 1, 2, 3])\n",
    "print(\"Original array:\",y)\n",
    "print(\"Test if none of the elements of the said array is zero:\\n\",np.all(y))"
   ]
  },
  {
   "cell_type": "markdown",
   "metadata": {},
   "source": [
    "## Write a NumPy program to create an array of 5 zeros, 5 ones, 5 fives."
   ]
  },
  {
   "cell_type": "code",
   "execution_count": 8,
   "metadata": {},
   "outputs": [
    {
     "data": {
      "text/plain": [
       "array([[0, 0, 0, 0, 0],\n",
       "       [1, 1, 1, 1, 1],\n",
       "       [5, 5, 5, 5, 5]])"
      ]
     },
     "execution_count": 8,
     "metadata": {},
     "output_type": "execute_result"
    }
   ],
   "source": [
    "import numpy as np\n",
    "a=np.zeros(5, dtype=int)\n",
    "b=np.ones(5, dtype=int)\n",
    "c=np.ones(5, dtype=int)*5\n",
    "z=np.concatenate((a,b,c),axis=0).reshape(3,5)\n",
    "z"
   ]
  },
  {
   "cell_type": "markdown",
   "metadata": {},
   "source": [
    "## Write a NumPy program to generate an array of 15 random numbers from a standard normal distribution"
   ]
  },
  {
   "cell_type": "code",
   "execution_count": 9,
   "metadata": {},
   "outputs": [
    {
     "name": "stdout",
     "output_type": "stream",
     "text": [
      "15 random numbers from a standard normal distribution:\n",
      "[ 0.40688422  0.46928635  0.56078528  0.85336102 -0.08575531 -1.62001133\n",
      " -0.16431504  0.28718075  0.02080505  0.07641035  0.25687998  1.13592491\n",
      " -0.46978738 -2.55733841  0.47457803]\n"
     ]
    }
   ],
   "source": [
    "import numpy as np\n",
    "rand_num = np.random.normal(0,1,15)\n",
    "print(\"15 random numbers from a standard normal distribution:\")\n",
    "print(rand_num)"
   ]
  },
  {
   "cell_type": "markdown",
   "metadata": {},
   "source": [
    "## Write a NumPy program to create a vector with values ranging from 10 to 40 and print all values except the first and last."
   ]
  },
  {
   "cell_type": "code",
   "execution_count": 11,
   "metadata": {},
   "outputs": [
    {
     "data": {
      "text/plain": [
       "array([11, 12, 13, 14, 15, 16, 17, 18, 19, 20, 21, 22, 23, 24, 25, 26, 27,\n",
       "       28, 29, 30, 31, 32, 33, 34, 35, 36, 37, 38, 39])"
      ]
     },
     "execution_count": 11,
     "metadata": {},
     "output_type": "execute_result"
    }
   ],
   "source": [
    "import numpy as np\n",
    "a = np.arange(10,40)\n",
    "z = a[1:]\n",
    "z"
   ]
  },
  {
   "cell_type": "markdown",
   "metadata": {},
   "source": [
    "## Write a NumPy program to create a vector with values from 1 to 15 and change the sign of the numbers in the range from 10 to 15. "
   ]
  },
  {
   "cell_type": "code",
   "execution_count": 12,
   "metadata": {},
   "outputs": [
    {
     "name": "stdout",
     "output_type": "stream",
     "text": [
      "Original vector:\n",
      "[ 0  1  2  3  4  5  6  7  8  9 10 11 12 13 14]\n",
      "After changing the sign of the numbers in the range from 9 to 15:\n",
      "[  0   1   2   3   4   5   6   7   8   9 -10 -11 -12 -13 -14]\n"
     ]
    }
   ],
   "source": [
    "import numpy as np\n",
    "x = np.arange(15)\n",
    "print(\"Original vector:\")\n",
    "print(x)\n",
    "print(\"After changing the sign of the numbers in the range from 9 to 15:\")\n",
    "x[(x >= 10) & (x <= 15)] *= -1\n",
    "print(x)"
   ]
  },
  {
   "cell_type": "markdown",
   "metadata": {},
   "source": [
    "## Write a NumPy program to create a 3x4 matrix filled with values from 10 to 21"
   ]
  },
  {
   "cell_type": "code",
   "execution_count": 13,
   "metadata": {},
   "outputs": [
    {
     "name": "stdout",
     "output_type": "stream",
     "text": [
      "[[10 11 12 13]\n",
      " [14 15 16 17]\n",
      " [18 19 20 21]]\n"
     ]
    }
   ],
   "source": [
    "import numpy as np\n",
    "a= np.arange(10,22).reshape((3, 4))\n",
    "print(a)"
   ]
  },
  {
   "cell_type": "markdown",
   "metadata": {},
   "source": [
    "## Write a NumPy program to compute the inner product of two given vectors"
   ]
  },
  {
   "cell_type": "code",
   "execution_count": 14,
   "metadata": {},
   "outputs": [
    {
     "name": "stdout",
     "output_type": "stream",
     "text": [
      "Original vectors:\n",
      "[4 5]\n",
      "[ 7 10]\n",
      "Inner product of said vectors:\n",
      "78\n"
     ]
    }
   ],
   "source": [
    "import numpy as np\n",
    "x = np.array([4, 5])\n",
    "y = np.array([7, 10])\n",
    "print(\"Original vectors:\")\n",
    "print(x)\n",
    "print(y)\n",
    "print(\"Inner product of said vectors:\")\n",
    "print(np.dot(x, y))"
   ]
  },
  {
   "cell_type": "markdown",
   "metadata": {},
   "source": [
    "## Write a NumPy program to create a structured array from given student name, height, class and their data types. Now sort the array on height."
   ]
  },
  {
   "cell_type": "code",
   "execution_count": 15,
   "metadata": {},
   "outputs": [
    {
     "name": "stdout",
     "output_type": "stream",
     "text": [
      "Original array:\n",
      "[(b'James', 5, 48.5 ) (b'Nail', 6, 52.5 ) (b'Paul', 5, 42.1 )\n",
      " (b'Pit', 5, 40.11)]\n",
      "Sort by height\n",
      "[(b'Pit', 5, 40.11) (b'Paul', 5, 42.1 ) (b'James', 5, 48.5 )\n",
      " (b'Nail', 6, 52.5 )]\n"
     ]
    }
   ],
   "source": [
    "import numpy as np\n",
    "data_type = [('name', 'S15'), ('class', int), ('height', float)]\n",
    "students_details = [('James', 5, 48.5), ('Nail', 6, 52.5),('Paul', 5, 42.10), ('Pit', 5, 40.11)]\n",
    "# create a structured array\n",
    "students = np.array(students_details, dtype=data_type)   \n",
    "print(\"Original array:\")\n",
    "print(students)\n",
    "print(\"Sort by height\")\n",
    "print(np.sort(students, order='height'))    "
   ]
  },
  {
   "cell_type": "markdown",
   "metadata": {},
   "source": [
    "## Write a NumPy program to add, subtract, multiply, divide arguments element-wise. \n"
   ]
  },
  {
   "cell_type": "code",
   "execution_count": 16,
   "metadata": {},
   "outputs": [
    {
     "name": "stdout",
     "output_type": "stream",
     "text": [
      "Add:\n",
      "5.0\n",
      "Subtract:\n",
      "-3.0\n",
      "Multiply:\n",
      "4.0\n",
      "Divide:\n",
      "0.25\n"
     ]
    }
   ],
   "source": [
    "import numpy as np\n",
    "print(\"Add:\")\n",
    "print(np.add(1.0, 4.0))\n",
    "print(\"Subtract:\")\n",
    "print(np.subtract(1.0, 4.0))\n",
    "print(\"Multiply:\")\n",
    "print(np.multiply(1.0, 4.0))\n",
    "print(\"Divide:\")\n",
    "print(np.divide(1.0, 4.0))"
   ]
  },
  {
   "cell_type": "markdown",
   "metadata": {},
   "source": [
    "## Write a NumPy program to get the minimum and maximum value of a given array along the second axis."
   ]
  },
  {
   "cell_type": "code",
   "execution_count": 17,
   "metadata": {},
   "outputs": [
    {
     "name": "stdout",
     "output_type": "stream",
     "text": [
      "\n",
      "Original array:\n",
      "[[0 1]\n",
      " [2 3]]\n",
      "\n",
      "Maximum value along the second axis:\n",
      "[1 3]\n",
      "Minimum value along the second axis:\n",
      "[0 2]\n"
     ]
    }
   ],
   "source": [
    "import numpy as np\n",
    "x = np.arange(4).reshape((2, 2))\n",
    "print(\"\\nOriginal array:\")\n",
    "print(x)\n",
    "print(\"\\nMaximum value along the second axis:\")\n",
    "print(np.amax(x, 1))\n",
    "print(\"Minimum value along the second axis:\")\n",
    "print(np.amin(x, 1))"
   ]
  },
  {
   "cell_type": "markdown",
   "metadata": {},
   "source": [
    "## Write a NumPy program to display all the dates for the month of May, 2019"
   ]
  },
  {
   "cell_type": "code",
   "execution_count": 18,
   "metadata": {},
   "outputs": [
    {
     "name": "stdout",
     "output_type": "stream",
     "text": [
      "May, 2019\n",
      "['2019-05-01' '2019-05-02' '2019-05-03' '2019-05-04' '2019-05-05'\n",
      " '2019-05-06' '2019-05-07' '2019-05-08' '2019-05-09' '2019-05-10'\n",
      " '2019-05-11' '2019-05-12' '2019-05-13' '2019-05-14' '2019-05-15'\n",
      " '2019-05-16' '2019-05-17' '2019-05-18' '2019-05-19' '2019-05-20'\n",
      " '2019-05-21' '2019-05-22' '2019-05-23' '2019-05-24' '2019-05-25'\n",
      " '2019-05-26' '2019-05-27' '2019-05-28' '2019-05-29' '2019-05-30'\n",
      " '2019-05-31']\n"
     ]
    }
   ],
   "source": [
    "import numpy as np\n",
    "print(\"May, 2019\")\n",
    "print(np.arange('2019-05', '2019-06', dtype='datetime64[D]'))"
   ]
  },
  {
   "attachments": {},
   "cell_type": "markdown",
   "metadata": {},
   "source": [
    "## Write a NumPy program to capitalize the first letter, lowercase, uppercase, swapcase, title-case of all the elements of a given array"
   ]
  },
  {
   "cell_type": "code",
   "execution_count": 20,
   "metadata": {},
   "outputs": [
    {
     "name": "stdout",
     "output_type": "stream",
     "text": [
      "Original Array:\n",
      "['ml', 'pYtHON', 'Data science', 'Numpy']\n",
      "Lowered:  ['ml', 'python', 'data science', 'numpy']\n",
      "Uppered:  ['ML' 'PYTHON' 'DATA SCIENCE' 'NUMPY']\n",
      "Swapcased:  ['ML' 'PyThon' 'dATA SCIENCE' 'nUMPY']\n",
      "Titlecased:  ['Ml' 'Python' 'Data Science' 'Numpy']\n"
     ]
    }
   ],
   "source": [
    "import numpy as np\n",
    "x = ['ml', 'pYtHON', 'Data science', 'Numpy']\n",
    "print(\"Original Array:\")\n",
    "print(str(x))\n",
    "\n",
    "lowered_case = np.char.lower(str(x))\n",
    "uppered_case = np.char.upper(x)\n",
    "swapcased_case = np.char.swapcase(x)\n",
    "titlecased_case = np.char.title(x)\n",
    "\n",
    "print(\"Lowered: \", lowered_case)\n",
    "print(\"Uppered: \", uppered_case)\n",
    "print(\"Swapcased: \", swapcased_case)\n",
    "print(\"Titlecased: \", titlecased_case)"
   ]
  }
 ],
 "metadata": {
  "kernelspec": {
   "display_name": "ineuron_python",
   "language": "python",
   "name": "python3"
  },
  "language_info": {
   "codemirror_mode": {
    "name": "ipython",
    "version": 3
   },
   "file_extension": ".py",
   "mimetype": "text/x-python",
   "name": "python",
   "nbconvert_exporter": "python",
   "pygments_lexer": "ipython3",
   "version": "3.10.8"
  },
  "orig_nbformat": 4,
  "vscode": {
   "interpreter": {
    "hash": "9e9a48024cb454289e277288cc9f89e25cc7fc93ab0cc47c5eb0839b87df686f"
   }
  }
 },
 "nbformat": 4,
 "nbformat_minor": 2
}
